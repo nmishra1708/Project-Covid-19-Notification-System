{
 "cells": [
  {
   "cell_type": "markdown",
   "metadata": {},
   "source": [
    "## _Covid-19 (Latest Updates) - Notification system_"
   ]
  },
  {
   "cell_type": "markdown",
   "metadata": {},
   "source": [
    "### _Step(1) -> Design the Notification Function_"
   ]
  },
  {
   "cell_type": "code",
   "execution_count": 1,
   "metadata": {},
   "outputs": [],
   "source": [
    "#Step(1.1)--------------------------------------------------\n",
    "#Importing necessary library for notification system generator\n",
    "from plyer import notification\n",
    "\n",
    "#Step(1.2)------------------\n",
    "#Defining 'notifyMe' function\n",
    "def notifyMe(title, message):\n",
    "    '''This function is define for bulid the notification system'''\n",
    "    notification.notify(\n",
    "    title = title,\n",
    "    message = message,\n",
    "    app_icon = \"C:/Users/Dell/Desktop/Python Class/Tutorial/icon.ico\",\n",
    "    timeout = 10)"
   ]
  },
  {
   "cell_type": "markdown",
   "metadata": {},
   "source": [
    "### _Step(2) -> Database pull from requested url_"
   ]
  },
  {
   "cell_type": "code",
   "execution_count": 2,
   "metadata": {},
   "outputs": [],
   "source": [
    "#Step(2.1)-----------------\n",
    "#Importing necessary library\n",
    "import requests\n",
    "\n",
    "#Step(2.2)-----------------\n",
    "#Defining 'getData' function\n",
    "def getData(url):\n",
    "    '''this function is define for build pull the data from requested url'''\n",
    "    r = requests.get(url)\n",
    "    return r.text"
   ]
  },
  {
   "cell_type": "markdown",
   "metadata": {},
   "source": [
    "###  _Step(3)-> Define the main function_"
   ]
  },
  {
   "cell_type": "code",
   "execution_count": 3,
   "metadata": {},
   "outputs": [],
   "source": [
    "#Step(3.1)--------------- \n",
    "#define the main function\n",
    "if __name__==\"__main__\":\n",
    "#     notifyMe(\"Hey Nitin\",\"Whats Up\")\n",
    "    myHtmlData = getData(\"https://www.mohfw.gov.in/\")\n",
    "#     print(myHtmlData)"
   ]
  },
  {
   "cell_type": "markdown",
   "metadata": {},
   "source": [
    "### _Step(4)-> Web Scraping by using beautifulShop_"
   ]
  },
  {
   "cell_type": "code",
   "execution_count": 4,
   "metadata": {},
   "outputs": [],
   "source": [
    "#Step(4.1)->Importing necessary library\n",
    "from bs4 import BeautifulSoup  as bs"
   ]
  },
  {
   "cell_type": "code",
   "execution_count": 5,
   "metadata": {},
   "outputs": [],
   "source": [
    "#Step(4.2)-> Parse the html data got from url\n",
    "soup = bs(myHtmlData, 'html.parser')"
   ]
  },
  {
   "cell_type": "code",
   "execution_count": 6,
   "metadata": {},
   "outputs": [],
   "source": [
    "#Step(4.3)-> prettify data using prettify function under bs4\n",
    "# print(soup.prettify())"
   ]
  },
  {
   "cell_type": "code",
   "execution_count": 7,
   "metadata": {},
   "outputs": [],
   "source": [
    "#Step(4.4)-> print all the 'tbody' element from table\n",
    "# for tr in soup.find_all('tbody'):\n",
    "#     print(tr.get_text())"
   ]
  },
  {
   "cell_type": "code",
   "execution_count": 8,
   "metadata": {},
   "outputs": [
    {
     "name": "stdout",
     "output_type": "stream",
     "text": [
      "['1', 'Andhra Pradesh', '381', '11', '6']\n",
      "['2', 'Andaman and Nicobar Islands', '11', '10', '0']\n",
      "['3', 'Arunachal Pradesh', '1', '0', '0']\n",
      "['4', 'Assam', '29', '0', '1']\n",
      "['5', 'Bihar', '64', '19', '1']\n",
      "['6', 'Chandigarh', '19', '7', '0']\n",
      "['7', 'Chhattisgarh', '25', '10', '0']\n",
      "['8', 'Delhi', '1069', '25', '19']\n",
      "['9', 'Goa', '7', '5', '0']\n",
      "['10', 'Gujarat', '432', '44', '22']\n",
      "['11', 'Haryana', '185', '29', '3']\n",
      "['12', 'Himachal Pradesh', '32', '6', '1']\n",
      "['13', 'Jammu and Kashmir', '224', '6', '4']\n",
      "['14', 'Jharkhand', '17', '0', '1']\n",
      "['15', 'Karnataka', '226', '37', '6']\n",
      "['16', 'Kerala', '374', '142', '2']\n",
      "['17', 'Ladakh', '15', '10', '0']\n",
      "['18', 'Madhya Pradesh', '564', '0', '36']\n",
      "['19', 'Maharashtra', '1761', '208', '127']\n",
      "['20', 'Manipur', '2', '1', '0']\n"
     ]
    }
   ],
   "source": [
    "#Step(4.5)->pull all the states actual figures from table tag\n",
    "myDataStr = \"\"\n",
    "\n",
    "for tr in soup.find_all('tr'):\n",
    "    myDataStr += tr.get_text()\n",
    "\n",
    "myDataStr = myDataStr[1:]\n",
    "itemlist = myDataStr.split(\"\\n\\n\")\n",
    "\n",
    "for item in itemlist[1:21]:\n",
    "    print(item.split('\\n'))"
   ]
  },
  {
   "cell_type": "markdown",
   "metadata": {},
   "source": [
    "### _Step(5)-> Implement logic_"
   ]
  },
  {
   "cell_type": "code",
   "execution_count": 9,
   "metadata": {},
   "outputs": [],
   "source": [
    "#Step(5.1)->Importing time library\n",
    "import time\n",
    "\n",
    "#Step(5.2)-> Initialize 'myDataStr' string\n",
    "myDataStr = \"\"\n",
    "\n",
    "#Step(5.3)->pull all the 'tr' element and print accordingly\n",
    "for tr in soup.find_all('tr'):\n",
    "    myDataStr += tr.get_text()\n",
    "\n",
    "#Step(5.4)->Removing first element\n",
    "myDataStr = myDataStr[1:]\n",
    "\n",
    "#Step(5.5)->Split the data set according to double new line \n",
    "itemlist = myDataStr.split(\"\\n\\n\")\n",
    "\n",
    "#Step(5.6) -> Create the list of desired states\n",
    "states = ['Madhya Pradesh','Maharashtra','Delhi']\n",
    "\n",
    "#Step(5.7)->Pull the data from row 1 to row 20\n",
    "for item in itemlist[1:21]:\n",
    "    dataList = item.split('\\n')\n",
    "    if dataList[1] in states:\n",
    "#         print(dataList)\n",
    "\n",
    "        #Define the title\n",
    "        nTitle = \"Covid-19 Updates\"\n",
    "        \n",
    "        #define the text\n",
    "        nText = f\"STATE - {dataList[1]}:\\nConfirmed - {dataList[2]}\\nCured- {dataList[3]}\\nDeath- {dataList[4]}\"\n",
    "        \n",
    "        #Call the notifyMe function and pass the arguments \n",
    "        notifyMe(nTitle, nText)\n",
    "        \n",
    "        #Sleep the function for 2 ml\n",
    "        time.sleep(2)"
   ]
  }
 ],
 "metadata": {
  "kernelspec": {
   "display_name": "Python 3",
   "language": "python",
   "name": "python3"
  },
  "language_info": {
   "codemirror_mode": {
    "name": "ipython",
    "version": 3
   },
   "file_extension": ".py",
   "mimetype": "text/x-python",
   "name": "python",
   "nbconvert_exporter": "python",
   "pygments_lexer": "ipython3",
   "version": "3.7.5"
  }
 },
 "nbformat": 4,
 "nbformat_minor": 2
}
